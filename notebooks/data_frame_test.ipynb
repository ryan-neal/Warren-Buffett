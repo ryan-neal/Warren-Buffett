{
 "cells": [
  {
   "cell_type": "code",
   "execution_count": 17,
   "metadata": {
    "collapsed": true
   },
   "outputs": [],
   "source": [
    "import pymongo\n",
    "\n",
    "client = pymongo.MongoClient()\n",
    "collection = client['BerkshireHathaway']['reports']"
   ]
  },
  {
   "cell_type": "code",
   "execution_count": 11,
   "metadata": {},
   "outputs": [],
   "source": [
    "best_years = collection.find().sort([(\"brk-returns\", pymongo.DESCENDING)])"
   ]
  },
  {
   "cell_type": "code",
   "execution_count": 15,
   "metadata": {},
   "outputs": [],
   "source": [
    "#best_years.next()"
   ]
  },
  {
   "cell_type": "code",
   "execution_count": 85,
   "metadata": {},
   "outputs": [],
   "source": [
    "def get_good_years():\n",
    "    good_years = collection.find( { \"brk-returns\": { '$gt': 0 } }, \n",
    "                                  {\"year\": True, \"_id\": False })\n",
    "    lst = []\n",
    "    for item in good_years:\n",
    "        lst.append(item['year'])\n",
    "    return(lst)"
   ]
  },
  {
   "cell_type": "code",
   "execution_count": 88,
   "metadata": {},
   "outputs": [],
   "source": [
    "def get_bad_years():\n",
    "    bad_years = collection.find( { \"brk-returns\": { '$lt': 0 } }, \n",
    "                                 {\"year\": True, \"_id\": False })\n",
    "    lst = []\n",
    "    for item in bad_years:\n",
    "        lst.append(item['year'])\n",
    "    return(lst)"
   ]
  },
  {
   "cell_type": "code",
   "execution_count": 86,
   "metadata": {},
   "outputs": [],
   "source": [
    "answer = get_good_years()"
   ]
  },
  {
   "cell_type": "code",
   "execution_count": 87,
   "metadata": {},
   "outputs": [
    {
     "name": "stdout",
     "output_type": "stream",
     "text": [
      "['2013', '1986', '2003', '1991', '1987', '2000', '1996', '2007', '1998', '1997', '1981', '2005', '2009', '1994', '1982', '2012', '1983', '1995', '2010', '1988', '2014', '1992', '2006', '2001', '2004', '2016', '1985', '1993', '1989']\n"
     ]
    }
   ],
   "source": [
    "print(answer)"
   ]
  },
  {
   "cell_type": "code",
   "execution_count": 89,
   "metadata": {},
   "outputs": [],
   "source": [
    "answer = get_bad_years()\n"
   ]
  },
  {
   "cell_type": "code",
   "execution_count": 90,
   "metadata": {},
   "outputs": [
    {
     "name": "stdout",
     "output_type": "stream",
     "text": [
      "['1990', '1999', '2011', '2015', '2002', '1984', '2008']\n"
     ]
    }
   ],
   "source": [
    "print(answer)"
   ]
  },
  {
   "cell_type": "code",
   "execution_count": null,
   "metadata": {},
   "outputs": [],
   "source": [
    "\n"
   ]
  },
  {
   "cell_type": "code",
   "execution_count": 29,
   "metadata": {},
   "outputs": [
    {
     "data": {
      "text/plain": [
       "array([1980, 1981, 1982, 1984, 1985, 1986, 1987, 1988, 1990, 1991, 1992,\n       1993, 1994, 1995, 1996, 1997, 1999, 2000, 2002, 2003, 2004, 2005,\n       2006, 2008, 2009, 2011, 2012, 2013, 2015])"
      ]
     },
     "execution_count": 29,
     "metadata": {},
     "output_type": "execute_result"
    }
   ],
   "source": [
    ""
   ]
  }
 ],
 "metadata": {
  "kernelspec": {
   "display_name": "Python 2",
   "language": "python",
   "name": "python2"
  },
  "language_info": {
   "codemirror_mode": {
    "name": "ipython",
    "version": 2
   },
   "file_extension": ".py",
   "mimetype": "text/x-python",
   "name": "python",
   "nbconvert_exporter": "python",
   "pygments_lexer": "ipython2",
   "version": "2.7.6"
  }
 },
 "nbformat": 4,
 "nbformat_minor": 0
}
